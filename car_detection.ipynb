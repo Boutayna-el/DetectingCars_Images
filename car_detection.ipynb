{
 "cells": [
  {
   "cell_type": "code",
   "execution_count": 50,
   "id": "a979ed81",
   "metadata": {},
   "outputs": [],
   "source": [
    "import cv2\n",
    "from vehicle_detector import VehicleDetector\n",
    "import glob"
   ]
  },
  {
   "cell_type": "code",
   "execution_count": 51,
   "id": "a29f94b8",
   "metadata": {},
   "outputs": [],
   "source": [
    "vd = VehicleDetector()"
   ]
  },
  {
   "cell_type": "code",
   "execution_count": 52,
   "id": "d8eaba3c",
   "metadata": {},
   "outputs": [
    {
     "name": "stdout",
     "output_type": "stream",
     "text": [
      "img path images\\B.jpg\n",
      "img path images\\pexels-adrien-olichon-2387615.jpg\n",
      "img path images\\pexels-aleks-magnusson-3441201.jpg\n",
      "img path images\\pexels-alex-pham-950223.jpg\n",
      "img path images\\pexels-ashley-fontana-705774.jpg\n",
      "img path images\\pexels-charles-kettor-1077785.jpg\n",
      "img path images\\pexels-charles-parker-5845724.jpg\n",
      "img path images\\pexels-ekrulila-3901959.jpg\n",
      "img path images\\pexels-elviss-railijs-bitans-1210622.jpg\n",
      "img path images\\pexels-erik-mclean-4928599.jpg\n",
      "img path images\\pexels-jacob-morch-457418.jpg\n",
      "img path images\\pexels-jose-mueses-1280560.jpg\n",
      "img path images\\pexels-kaboompics-com-6147.jpg\n",
      "img path images\\pexels-kaique-rocha-125514.jpg\n",
      "img path images\\pexels-kelly-lacy-2833655.jpg\n",
      "img path images\\pexels-kendall-hoopes-1015555.jpg\n",
      "img path images\\pexels-ketan-kumawat-724948.jpg\n",
      "img path images\\pexels-lina-kivaka-3992172.jpg\n",
      "img path images\\pexels-mali-maeder-457609.jpg\n",
      "img path images\\pexels-nordic-overdrive-627719.jpg\n",
      "img path images\\pexels-scott-webb-2385546.jpg\n",
      "img path images\\pexels-svh-2684219.jpg\n"
     ]
    }
   ],
   "source": [
    "images_folder = glob.glob(\"images/*.jpg\")\n",
    "for img_path in images_folder:\n",
    "    print(\"img path\", img_path)\n",
    "    img = cv2.imread(img_path)\n",
    "    vehicle_boxes = vd.detect_vehicles(img)\n",
    "    vehicle_count = len(vehicle_boxes)\n",
    "    for box in vehicle_boxes:\n",
    "        x, y, w, h = box\n",
    "        cv2.rectangle(img, (x,y), (x+w, y+h), (25, 8, 180), 3)\n",
    "        cv2.putText(img, \"Vehicles: \" + str(vehicle_count), (20, 50), 0, 2, (100, 200,0), 3)\n",
    "    cv2.namedWindow('cars', cv2.WINDOW_NORMAL)\n",
    "    cv2.imshow('cars',img)\n",
    "    cv2.waitKey(0)\n",
    "    cv2.destroyAllWindows()"
   ]
  }
 ],
 "metadata": {
  "kernelspec": {
   "display_name": "Python 3 (ipykernel)",
   "language": "python",
   "name": "python3"
  },
  "language_info": {
   "codemirror_mode": {
    "name": "ipython",
    "version": 3
   },
   "file_extension": ".py",
   "mimetype": "text/x-python",
   "name": "python",
   "nbconvert_exporter": "python",
   "pygments_lexer": "ipython3",
   "version": "3.9.13"
  }
 },
 "nbformat": 4,
 "nbformat_minor": 5
}
